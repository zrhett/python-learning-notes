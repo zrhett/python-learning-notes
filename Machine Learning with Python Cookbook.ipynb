{
 "cells": [
  {
   "cell_type": "markdown",
   "metadata": {},
   "source": [
    "# Chapter 11 Model Evaluation"
   ]
  },
  {
   "cell_type": "markdown",
   "metadata": {},
   "source": [
    "## 11.1 Cross-Validating Models\n",
    "评估模型在现实世界中的性能。"
   ]
  },
  {
   "cell_type": "code",
   "execution_count": 1,
   "metadata": {},
   "outputs": [
    {
     "data": {
      "text/plain": [
       "array([0.97222222, 0.97777778, 0.95555556, 0.95      , 0.95555556,\n",
       "       0.98333333, 0.97777778, 0.96648045, 0.96089385, 0.94972067])"
      ]
     },
     "execution_count": 1,
     "metadata": {},
     "output_type": "execute_result"
    }
   ],
   "source": [
    "from sklearn import datasets\n",
    "from sklearn import metrics\n",
    "from sklearn.model_selection import KFold, cross_val_score\n",
    "from sklearn.pipeline import make_pipeline\n",
    "from sklearn.linear_model import LogisticRegression\n",
    "from sklearn.preprocessing import StandardScaler\n",
    "\n",
    "digits = datasets.load_digits()\n",
    "features = digits.data\n",
    "target = digits.target\n",
    "standardizer = StandardScaler()\n",
    "logit = LogisticRegression()\n",
    "pipeline = make_pipeline(standardizer, logit)\n",
    "kf = KFold(n_splits=10, shuffle=True, random_state=1)\n",
    "\n",
    "cv_results = cross_val_score(pipeline, features, target, cv=kf, \n",
    "                             scoring='accuracy', n_jobs=-1)\n",
    "cv_results"
   ]
  },
  {
   "cell_type": "markdown",
   "metadata": {},
   "source": [
    "#### 使用KFCV的注意事项：\n",
    "* 数据独立同分布。\n",
    "* 每一个fold中各类别的比例要大致和总体中的比例一致，在sklearn中可以使用StratifiedKFold代替KFold。\n",
    "* 在运用验证或交叉验证时，基于训练集对数据进行预处理，然后同时把变换应用到训练集和测试集中。"
   ]
  },
  {
   "cell_type": "code",
   "execution_count": 3,
   "metadata": {},
   "outputs": [],
   "source": [
    "from sklearn.model_selection import train_test_split\n",
    "\n",
    "X_train, X_test, y_train, y_test = train_test_split(features, target, test_size=0.1,\n",
    "                                                   random_state=1)\n",
    "standardizer.fit(X_train)\n",
    "X_train_std = standardizer.transform(X_train)\n",
    "X_test_std = standardizer.transform(X_test)"
   ]
  },
  {
   "cell_type": "markdown",
   "metadata": {},
   "source": [
    "原因是：假定测试集是未知数据。如果我们使用来自训练和测试集的观察值来匹配两个预处理器，那么来自测试集的一些信息就会泄漏到训练集中。此规则适用于任何预处理步骤，如特征选择。"
   ]
  },
  {
   "cell_type": "markdown",
   "metadata": {},
   "source": [
    "## 11.2 Creating a Baseline Regression Model\n",
    "用一个简单基线回归模型来对比你的模型。"
   ]
  },
  {
   "cell_type": "code",
   "execution_count": 19,
   "metadata": {},
   "outputs": [
    {
     "name": "stdout",
     "output_type": "stream",
     "text": [
      "-0.001119359203955339\n",
      "0.635463843320211\n"
     ]
    }
   ],
   "source": [
    "from sklearn.datasets import load_boston\n",
    "from sklearn.dummy import DummyRegressor\n",
    "from sklearn.linear_model import LinearRegression\n",
    "from sklearn.model_selection import train_test_split\n",
    "\n",
    "boston = load_boston()\n",
    "X, y = boston.data, boston.target\n",
    "X_train, X_test, y_train, y_test = train_test_split(X, y, random_state=0)\n",
    "dummy = DummyRegressor(strategy='mean')\n",
    "dummy.fit(X_train, y_train)\n",
    "print(dummy.score(X_test, y_test))\n",
    "\n",
    "ols = LinearRegression()\n",
    "ols.fit(X_train, y_train)\n",
    "print(ols.score(X_test, y_test))"
   ]
  },
  {
   "cell_type": "markdown",
   "metadata": {},
   "source": [
    "## 11.3 Creating a Baseline Classification Model\n",
    "可以用来量度一个分类器是否比随机猜测好。"
   ]
  },
  {
   "cell_type": "code",
   "execution_count": 41,
   "metadata": {},
   "outputs": [
    {
     "name": "stdout",
     "output_type": "stream",
     "text": [
      "0.42105263157894735\n",
      "0.9736842105263158\n"
     ]
    }
   ],
   "source": [
    "from sklearn.ensemble import RandomForestClassifier\n",
    "from sklearn.datasets import load_iris\n",
    "from sklearn.model_selection import train_test_split\n",
    "from sklearn.dummy import DummyClassifier\n",
    "\n",
    "iris = load_iris()\n",
    "X, y = iris.data, iris.target\n",
    "X_train, X_test, y_train, y_test = train_test_split(X, y, random_state=0)\n",
    "dummy = DummyClassifier(strategy='uniform', random_state=1)\n",
    "dummy.fit(X_train, y_train)\n",
    "print(dummy.score(X_test, y_test))\n",
    "\n",
    "classifier = RandomForestClassifier(n_estimators=10)\n",
    "classifier.fit(X_train, y_train)\n",
    "print(classifier.score(X_test, y_test))"
   ]
  },
  {
   "cell_type": "markdown",
   "metadata": {},
   "source": [
    "## 11.4 Evaluating Binary Classifier Predictions\n",
    "评估一个已经训练好的分类模型。"
   ]
  },
  {
   "cell_type": "code",
   "execution_count": 39,
   "metadata": {},
   "outputs": [
    {
     "data": {
      "text/plain": [
       "array([0.95170966, 0.9580084 , 0.95558223])"
      ]
     },
     "execution_count": 39,
     "metadata": {},
     "output_type": "execute_result"
    }
   ],
   "source": [
    "from sklearn.model_selection import cross_val_score\n",
    "from sklearn.linear_model import LogisticRegression\n",
    "from sklearn.datasets import make_classification\n",
    "\n",
    "X, y = make_classification(n_samples=10000, n_features=3, n_informative=3,\n",
    "                          n_redundant=0, n_classes=2, random_state=1)\n",
    "\n",
    "logit = LogisticRegression(solver='liblinear')\n",
    "cross_val_score(logit, X, y, cv=3, scoring='accuracy')"
   ]
  },
  {
   "cell_type": "markdown",
   "metadata": {},
   "source": [
    "评分标准有：accuracy、precision、recall、f1  \n",
    "f1是对precision和recall的平衡，表示对标记为正类的结果有多少是真的正类。  \n",
    "\n",
    "如果已经有实际值和预测值，可以直接使用一下的评分方法："
   ]
  },
  {
   "cell_type": "code",
   "execution_count": 40,
   "metadata": {},
   "outputs": [
    {
     "data": {
      "text/plain": [
       "0.947"
      ]
     },
     "execution_count": 40,
     "metadata": {},
     "output_type": "execute_result"
    }
   ],
   "source": [
    "from sklearn.model_selection import train_test_split\n",
    "from sklearn.metrics import accuracy_score, precision_score, f1_score, recall_score\n",
    "\n",
    "X_train, X_test, y_train, y_test = train_test_split(X, y, \n",
    "                                                    test_size=0.1,\n",
    "                                                    random_state=1)\n",
    "y_hat = logit.fit(X_train, y_train).predict(X_test)\n",
    "accuracy_score(y_test, y_hat)"
   ]
  },
  {
   "cell_type": "markdown",
   "metadata": {},
   "source": [
    "## 11.5 Evaluating Binary Classifier Thresholds\n",
    "评估二元分类器和多概率阈值"
   ]
  },
  {
   "cell_type": "code",
   "execution_count": 7,
   "metadata": {},
   "outputs": [
    {
     "data": {
      "image/png": "[encoded data removed]",
      "text/plain": [
       "<Figure size 360x360 with 1 Axes>"
      ]
     },
     "metadata": {
      "needs_background": "light"
     },
     "output_type": "display_data"
    }
   ],
   "source": [
    "import matplotlib.pyplot as plt\n",
    "from sklearn.linear_model import LogisticRegression\n",
    "from sklearn.datasets import make_classification\n",
    "from sklearn.metrics import roc_curve, roc_auc_score\n",
    "from sklearn.model_selection import train_test_split\n",
    "\n",
    "X, y = make_classification(n_samples=10000, n_features=10, n_informative=3,\n",
    "                          n_redundant=0, n_classes=2, random_state=6)\n",
    "X_train, X_test, y_train, y_test = train_test_split(X, y, \n",
    "                                                    test_size=0.1,\n",
    "                                                    random_state=1)\n",
    "logit = LogisticRegression(solver='liblinear')\n",
    "logit.fit(X_train, y_train)\n",
    "y_proba = logit.predict_proba(X_test)[:, 1]\n",
    "fpr, tpr, th = roc_curve(y_test, y_proba)\n",
    "\n",
    "plt.figure(figsize=(3, 3), dpi=120)\n",
    "plt.title('Receiver Operating Characteristic')\n",
    "plt.plot(fpr, tpr)\n",
    "plt.plot([0, 1], ls='--')\n",
    "plt.plot([0, 0], [1, 0], c='.7')\n",
    "plt.plot([1, 1], c='.7')\n",
    "plt.ylabel('True Positive Rate')\n",
    "plt.xlabel('False Positive Rate')\n",
    "plt.show()"
   ]
  },
  {
   "cell_type": "markdown",
   "metadata": {},
   "source": [
    "* 曲线越接近灰色线越好;  \n",
    "* 模型越好，曲线越高，曲线下的面积就越大。曲线下的面积越接近1，模型越好："
   ]
  },
  {
   "cell_type": "code",
   "execution_count": 86,
   "metadata": {},
   "outputs": [
    {
     "data": {
      "text/plain": [
       "0.9567877506566725"
      ]
     },
     "execution_count": 86,
     "metadata": {},
     "output_type": "execute_result"
    }
   ],
   "source": [
    "roc_auc_score(y_test, y_proba)"
   ]
  },
  {
   "cell_type": "markdown",
   "metadata": {},
   "source": [
    "## 11.6 Evaluating Multiclass Classifier Predictions\n",
    "交叉验证能评估能分两类以上的分类器"
   ]
  },
  {
   "cell_type": "code",
   "execution_count": 1,
   "metadata": {},
   "outputs": [
    {
     "data": {
      "text/plain": [
       "array([0.83613125, 0.82562258, 0.81293539])"
      ]
     },
     "execution_count": 1,
     "metadata": {},
     "output_type": "execute_result"
    }
   ],
   "source": [
    "from sklearn.model_selection import cross_val_score\n",
    "from sklearn.linear_model import LogisticRegression\n",
    "from sklearn.datasets import make_classification\n",
    "\n",
    "X, y = make_classification(n_samples=10000, n_features=3, n_informative=3,\n",
    "                          n_redundant=0, n_classes=3, random_state=1)\n",
    "\n",
    "logit = LogisticRegression(solver='liblinear', multi_class='auto')\n",
    "cross_val_score(logit, X, y, cv=3, scoring='f1_macro')"
   ]
  },
  {
   "cell_type": "code",
   "execution_count": 12,
   "metadata": {},
   "outputs": [
    {
     "name": "stdout",
     "output_type": "stream",
     "text": [
      "0.82\n",
      "              precision    recall  f1-score   support\n",
      "\n",
      "           0       0.80      0.77      0.78      3327\n",
      "           1       0.84      0.85      0.84      3336\n",
      "           2       0.84      0.85      0.85      3337\n",
      "\n",
      "    accuracy                           0.83     10000\n",
      "   macro avg       0.82      0.83      0.82     10000\n",
      "weighted avg       0.82      0.83      0.83     10000\n",
      "\n"
     ]
    }
   ],
   "source": [
    "from sklearn.model_selection import cross_val_score\n",
    "from sklearn.linear_model import LogisticRegression\n",
    "from sklearn.datasets import make_classification\n",
    "from sklearn.metrics import classification_report\n",
    "\n",
    "X, y = make_classification(n_samples=10000, n_features=3, n_informative=3,\n",
    "                          n_redundant=0, n_classes=3, random_state=1)\n",
    "\n",
    "logit = LogisticRegression(solver='liblinear', multi_class='auto')\n",
    "print(f\"{cross_val_score(logit, X, y, cv=3, scoring='f1_macro').mean():0.2f}\")\n",
    "y_pred = logit.fit(X, y).predict(X)\n",
    "print(classification_report(y, y_pred))"
   ]
  },
  {
   "cell_type": "markdown",
   "metadata": {},
   "source": [
    "## 11.7 Visualizing a Classifier's Performance\n",
    "使用混淆矩阵来比较预测类别和实际类别"
   ]
  },
  {
   "cell_type": "code",
   "execution_count": 126,
   "metadata": {},
   "outputs": [
    {
     "data": {
      "text/plain": [
       "(0.0, 3.0, 3.0, 0.0)"
      ]
     },
     "execution_count": 126,
     "metadata": {},
     "output_type": "execute_result"
    },
    {
     "data": {
      "image/png": "[encoded data removed]",
      "text/plain": [
       "<Figure size 300x300 with 1 Axes>"
      ]
     },
     "metadata": {
      "needs_background": "light"
     },
     "output_type": "display_data"
    }
   ],
   "source": [
    "import matplotlib.pyplot as plt\n",
    "import seaborn as sns\n",
    "from sklearn import datasets\n",
    "from sklearn.linear_model import LogisticRegression\n",
    "from sklearn.model_selection import train_test_split\n",
    "from sklearn.metrics import confusion_matrix\n",
    "import pandas as pd\n",
    "\n",
    "iris = datasets.load_iris()\n",
    "X, y = iris.data, iris.target\n",
    "class_names = iris.target_names\n",
    "X_train, X_test, y_train, y_test = train_test_split(X, y, test_size=0.2, random_state=1)\n",
    "clf = LogisticRegression(solver='liblinear', multi_class='auto')\n",
    "y_pred = clf.fit(X_train, y_train).predict(X_test)\n",
    "matrix = confusion_matrix(y_test, y_pred)\n",
    "plt.figure(figsize=(3, 3), dpi=100)\n",
    "sns.heatmap(matrix, annot=True, cbar=None, cmap='Blues', \n",
    "            xticklabels=class_names, yticklabels=class_names)\n",
    "plt.tick_params(axis='both', left=False, bottom=False, labelrotation=0)\n",
    "plt.axis('equal')"
   ]
  },
  {
   "cell_type": "markdown",
   "metadata": {},
   "source": [
    "* 图中的列代表预测值数量，行代表实际值数量。\n",
    "* 好的模型使得数值都在对角线上，其余全为0。\n",
    "* 混淆矩阵很容易看出错误出在哪里，图中有5个versicolor类被错误预测为virginica类。\n",
    "* 可以看出模型对类别之间的区分能力，例如：模型更容易区分virginica类和setosa类，而很难区分virginica类和versicolor类。\n",
    "* 混淆矩阵适用于任意多的分类。"
   ]
  },
  {
   "cell_type": "markdown",
   "metadata": {},
   "source": [
    "## 11.8 Evaluating Regression Models\n",
    "使用均方差（MSE）评估回归模型的性能"
   ]
  },
  {
   "cell_type": "code",
   "execution_count": 132,
   "metadata": {},
   "outputs": [
    {
     "name": "stdout",
     "output_type": "stream",
     "text": [
      "MSE: [-1718.22817783 -3103.4124284  -1377.17858823]\n",
      "R-squared: [0.87804558 0.76395862 0.89154377]\n"
     ]
    }
   ],
   "source": [
    "from sklearn.datasets import make_regression\n",
    "from sklearn.model_selection import cross_val_score\n",
    "from sklearn.linear_model import LinearRegression\n",
    "# Generate features matrix, target vector \n",
    "features, target = make_regression(n_samples = 100,\n",
    "                                   n_features = 3,\n",
    "                                   n_informative = 3,\n",
    "                                   n_targets = 1,\n",
    "                                   noise = 50,\n",
    "                                   coef = False,\n",
    "                                   random_state = 1)\n",
    "# Create a linear regression object \n",
    "ols = LinearRegression()\n",
    "# Cross-validate the linear regression using (negative) MSE\n",
    "print('MSE:', cross_val_score(ols, features, target, cv=3, scoring='neg_mean_squared_error'))\n",
    "\n",
    "# Cross-validate the linear regression using R-squared \n",
    "print('R-squared:', cross_val_score(ols, features, target, cv=3, scoring='r2'))"
   ]
  },
  {
   "cell_type": "markdown",
   "metadata": {},
   "source": [
    "* 因为sklearn的评分默认是越大越好，而均方差（MSE）是越小越好，所以该scoring参数要用负的均方差\n",
    "* $R^2$的分数是越接近1越好。"
   ]
  },
  {
   "cell_type": "markdown",
   "metadata": {},
   "source": [
    "## 11.9 Evaluating Clustering Models\n",
    "用轮廓系数来评估非监督学习"
   ]
  },
  {
   "cell_type": "code",
   "execution_count": 4,
   "metadata": {},
   "outputs": [
    {
     "name": "stdout",
     "output_type": "stream",
     "text": [
      "sil: 0.8916265564072142\n",
      "cvs: 1.0\n"
     ]
    }
   ],
   "source": [
    "import numpy as np\n",
    "from sklearn.metrics import silhouette_score\n",
    "from sklearn.model_selection import cross_val_score\n",
    "from sklearn import datasets\n",
    "from sklearn.cluster import KMeans\n",
    "from sklearn.datasets import make_blobs\n",
    "\n",
    "X, _ = make_blobs(n_samples=1000,\n",
    "                 n_features=10,\n",
    "                 centers=2,\n",
    "                 cluster_std=0.5,\n",
    "                 shuffle=True,\n",
    "                 random_state=1)\n",
    "model = KMeans(n_clusters=2, random_state=1).fit(X)\n",
    "y_pred = model.labels_\n",
    "print('sil:', silhouette_score(X, y_pred))\n",
    "print('cvs:', cross_val_score(model, X, y_pred, cv=5, \n",
    "                              scoring='v_measure_score').mean())"
   ]
  },
  {
   "cell_type": "markdown",
   "metadata": {},
   "source": [
    "* 轮廓系数公式为：$ s_{i} = \\frac{b_{i} - a_{i}}{max(a_{i}, b_{i})} $\n",
    "* 轮廓系数取值在-1到1之间，1表示稠密、独立性好的聚类。"
   ]
  },
  {
   "cell_type": "markdown",
   "metadata": {},
   "source": [
    "## 11.10 Creating a Custom Evaluation Metric\n",
    "自定义模型评估量度：  \n",
    "使用sklearn.metrics.make_scorer()"
   ]
  },
  {
   "cell_type": "markdown",
   "metadata": {},
   "source": [
    "## 11.11 Visualizing the Effect of Training Set Size\n",
    "可视化训练集大小对评分的影响"
   ]
  },
  {
   "cell_type": "code",
   "execution_count": 39,
   "metadata": {},
   "outputs": [
    {
     "data": {
      "image/png": "[encoded data removed]",
      "text/plain": [
       "<Figure size 800x500 with 1 Axes>"
      ]
     },
     "metadata": {
      "needs_background": "light"
     },
     "output_type": "display_data"
    }
   ],
   "source": [
    "import numpy as np\n",
    "import matplotlib.pyplot as plt\n",
    "from sklearn.ensemble import RandomForestClassifier\n",
    "from sklearn.datasets import load_digits\n",
    "from sklearn.model_selection import learning_curve\n",
    "\n",
    "X, y = load_digits(return_X_y=True)\n",
    "train_sizes, train_scores, test_scores = learning_curve(RandomForestClassifier(),\n",
    "                                            X, y,\n",
    "                                            cv=10,\n",
    "                                            scoring='accuracy',\n",
    "                                            n_jobs=-1,\n",
    "                                            train_sizes=np.linspace(0.01, 1.0, 50))\n",
    "train_mean = np.mean(train_scores, axis=1)\n",
    "train_std = np.std(train_scores, axis=1)\n",
    "test_mean = np.mean(test_scores, axis=1)\n",
    "test_std = np.std(test_scores, axis=1)\n",
    "\n",
    "plt.figure(figsize=(8, 5), dpi=100)\n",
    "plt.plot(train_sizes, train_mean, '--', c='#111111', label='Training score')\n",
    "plt.plot(train_sizes, test_mean, c='#111111', label='Cross-validation score')\n",
    "plt.fill_between(train_sizes, train_mean - train_std, train_mean + train_std, color='#DDDDDD')\n",
    "plt.fill_between(train_sizes, test_mean - test_std, test_mean + test_std, color='#DDDDDD')\n",
    "plt.title('Learning Curve')\n",
    "plt.xlabel('Training Set Size')\n",
    "plt.ylabel('Accuray Score')\n",
    "plt.legend()\n",
    "plt.show()"
   ]
  },
  {
   "cell_type": "markdown",
   "metadata": {},
   "source": [
    "从图中看出，增加训练集数量对可以增加准确度。"
   ]
  },
  {
   "cell_type": "markdown",
   "metadata": {},
   "source": [
    "### 11.12 Creating a Text Report of Evaluation Metrics\n",
    "用classification_report来快速描述一个分类器的性能。"
   ]
  },
  {
   "cell_type": "code",
   "execution_count": 55,
   "metadata": {},
   "outputs": [
    {
     "name": "stdout",
     "output_type": "stream",
     "text": [
      "              precision    recall  f1-score   support\n",
      "\n",
      "      setosa       1.00      1.00      1.00        14\n",
      "  versicolor       1.00      0.72      0.84        18\n",
      "   virginica       0.72      1.00      0.84        13\n",
      "\n",
      "    accuracy                           0.89        45\n",
      "   macro avg       0.91      0.91      0.89        45\n",
      "weighted avg       0.92      0.89      0.89        45\n",
      "\n"
     ]
    }
   ],
   "source": [
    "from sklearn import datasets\n",
    "from sklearn.linear_model import LogisticRegression\n",
    "from sklearn.model_selection import train_test_split\n",
    "from sklearn.metrics import classification_report\n",
    "\n",
    "iris = datasets.load_iris()\n",
    "X, y = iris.data, iris.target\n",
    "class_names = iris.target_names\n",
    "\n",
    "X_train, X_test, y_train, y_test = train_test_split(X, y, test_size=0.3, \n",
    "                                                    random_state=1)\n",
    "clf = LogisticRegression(solver='liblinear', multi_class='auto')\n",
    "y_pred = clf.fit(X_train, y_train).predict(X_test)\n",
    "\n",
    "print(classification_report(y_test, y_pred, target_names=class_names))"
   ]
  },
  {
   "cell_type": "markdown",
   "metadata": {},
   "source": [
    "## 11.13 Visualizing the Effect of Hyperparameter Values\n",
    "通过绘制验证曲线来了解：当改变一些超参数后模型的性能如何变化。"
   ]
  },
  {
   "cell_type": "code",
   "execution_count": 66,
   "metadata": {},
   "outputs": [],
   "source": [
    "import matplotlib.pyplot as plt\n",
    "import numpy as np\n",
    "from sklearn.datasets import load_digits\n",
    "from sklearn.ensemble import RandomForestClassifier\n",
    "from sklearn.model_selection import validation_curve\n",
    "\n",
    "X, y = load_digits(return_X_y=True)\n",
    "# 创建参数值范围\n",
    "param_range = np.arange(1, 100, 2)\n",
    "train_scores, test_scores = validation_curve(\n",
    "    RandomForestClassifier(),\n",
    "    X, y,\n",
    "    param_name='n_estimators',\n",
    "    param_range=param_range,\n",
    "    cv=3, scoring='accuracy',\n",
    "    n_jobs=-1\n",
    ")"
   ]
  },
  {
   "cell_type": "code",
   "execution_count": 67,
   "metadata": {},
   "outputs": [
    {
     "data": {
      "image/png": "[encoded data removed]",
      "text/plain": [
       "<Figure size 800x500 with 1 Axes>"
      ]
     },
     "metadata": {
      "needs_background": "light"
     },
     "output_type": "display_data"
    }
   ],
   "source": [
    "train_mean = np.mean(train_scores, axis=1)\n",
    "train_std = np.std(train_scores, axis=1)\n",
    "test_mean = np.mean(test_scores, axis=1)\n",
    "test_std = np.std(test_scores, axis=1)\n",
    "\n",
    "plt.figure(figsize=(8, 5), dpi=100)\n",
    "plt.plot(param_range, train_mean, '--', c='#111111', label='Training score')\n",
    "plt.plot(param_range, test_mean, c='#111111', label='Cross-validation score')\n",
    "plt.fill_between(param_range, train_mean - train_std, train_mean + train_std, color='#DDDDDD')\n",
    "plt.fill_between(param_range, test_mean - test_std, test_mean + test_std, color='#DDDDDD')\n",
    "plt.title('Validation Curve With Random Forest')\n",
    "plt.xlabel('Number Of Trees')\n",
    "plt.ylabel('Accuray Score')\n",
    "plt.legend()\n",
    "plt.show()"
   ]
  },
  {
   "cell_type": "markdown",
   "metadata": {},
   "source": [
    "# Chapter 12 Model Selection"
   ]
  },
  {
   "cell_type": "markdown",
   "metadata": {},
   "source": [
    "## 12.1 Selecting Best Model Using Exhaustive Search\n",
    "使用GridSearchCV：通过搜索一个范围的超参数来选择最好的模型。"
   ]
  },
  {
   "cell_type": "code",
   "execution_count": 89,
   "metadata": {},
   "outputs": [
    {
     "name": "stdout",
     "output_type": "stream",
     "text": [
      "The best params: {'C': 7.742636826811269, 'penalty': 'l1'}\n",
      "The best score: 0.98\n"
     ]
    }
   ],
   "source": [
    "import numpy as np\n",
    "from sklearn import linear_model, datasets\n",
    "from sklearn.model_selection import GridSearchCV\n",
    "from sklearn.metrics import accuracy_score\n",
    "\n",
    "X, y = datasets.load_iris(return_X_y=True)\n",
    "model = linear_model.LogisticRegression(solver='liblinear', multi_class='auto')\n",
    "penalty = ['l1', 'l2']\n",
    "C = np.logspace(0, 4, 10)\n",
    "hp = dict(C=C, penalty=penalty)\n",
    "gs = GridSearchCV(model, hp, cv=5, n_jobs=-1)\n",
    "best_model = gs.fit(X, y)\n",
    "\n",
    "print('The best params:', best_model.best_params_)\n",
    "print('The best score:', best_model.best_score_)"
   ]
  },
  {
   "cell_type": "markdown",
   "metadata": {},
   "source": [
    "## 12.2 Selecting Best Models Using Randomized Search\n"
   ]
  },
  {
   "cell_type": "code",
   "execution_count": null,
   "metadata": {},
   "outputs": [],
   "source": []
  }
 ],
 "metadata": {
  "kernelspec": {
   "display_name": "Python 3",
   "language": "python",
   "name": "python3"
  },
  "language_info": {
   "codemirror_mode": {
    "name": "ipython",
    "version": 3
   },
   "file_extension": ".py",
   "mimetype": "text/x-python",
   "name": "python",
   "nbconvert_exporter": "python",
   "pygments_lexer": "ipython3",
   "version": "3.7.5"
  }
 },
 "nbformat": 4,
 "nbformat_minor": 4
}
